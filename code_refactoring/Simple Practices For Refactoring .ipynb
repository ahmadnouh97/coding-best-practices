{
 "cells": [
  {
   "cell_type": "markdown",
   "id": "9621fde3",
   "metadata": {},
   "source": [
    "# Simple Practices For Python Refactoring "
   ]
  },
  {
   "cell_type": "markdown",
   "id": "e6b713df",
   "metadata": {},
   "source": [
    "some simple best practices that can help you more effectively refactor your Python code."
   ]
  },
  {
   "cell_type": "markdown",
   "id": "fcf39cb2",
   "metadata": {},
   "source": [
    "## 1. Merge Nested If Statements"
   ]
  },
  {
   "cell_type": "code",
   "execution_count": null,
   "id": "af6fc1be",
   "metadata": {},
   "outputs": [],
   "source": [
    "# Original code with nested if statements\n",
    "if condition1:\n",
    "    if condition2:\n",
    "        do_something()\n",
    "\n",
    "# Refactored code with merged if statements\n",
    "if condition1 and condition2:\n",
    "    do_something()"
   ]
  },
  {
   "cell_type": "markdown",
   "id": "ff4441b6",
   "metadata": {},
   "source": [
    "## 2. Use any Instead of a Loop"
   ]
  },
  {
   "cell_type": "code",
   "execution_count": null,
   "id": "adfa2e0b",
   "metadata": {},
   "outputs": [],
   "source": [
    "# Original code with a loop\n",
    "my_list = [False, True, False]\n",
    "result = False\n",
    "for item in my_list:\n",
    "    if item:\n",
    "        result = True\n",
    "        break\n",
    "\n",
    "# Refactored code using any()\n",
    "my_list = [False, True, False]\n",
    "result = any(my_list)"
   ]
  },
  {
   "cell_type": "markdown",
   "id": "36ef6031",
   "metadata": {},
   "source": [
    "## 3. Pull Statements Out of For/While Loops"
   ]
  },
  {
   "cell_type": "code",
   "execution_count": null,
   "id": "6d6d55b5",
   "metadata": {},
   "outputs": [],
   "source": [
    "# Original code with statements inside the loop\n",
    "total = 0\n",
    "for i in range(10):\n",
    "    total += i\n",
    "    result = total * 2\n",
    "\n",
    "# Refactored code with statements pulled out of the loop\n",
    "total = 0\n",
    "for i in range(10):\n",
    "    total += i\n",
    "result = total * 2 # pulling this statement out of the loop is cleaner and more efficient"
   ]
  },
  {
   "cell_type": "markdown",
   "id": "6b8c9343",
   "metadata": {},
   "source": [
    "## 4. Add a Guard Clause"
   ]
  },
  {
   "cell_type": "code",
   "execution_count": null,
   "id": "febb1d5b",
   "metadata": {},
   "outputs": [],
   "source": [
    "# Original code without a guard clause\n",
    "def divide(a, b):\n",
    "    return a / b\n",
    "\n",
    "# Refactored code with a guard clause\n",
    "def divide(a, b):\n",
    "    if b == 0: # a guard clause to prevent dividing by 0\n",
    "        return None\n",
    "    return a / b"
   ]
  },
  {
   "cell_type": "markdown",
   "id": "f44629c3",
   "metadata": {},
   "source": [
    "## 5. Simplify Sequence Checks"
   ]
  },
  {
   "cell_type": "code",
   "execution_count": null,
   "id": "9a15483e",
   "metadata": {},
   "outputs": [],
   "source": [
    "# Original code with sequence checks\n",
    "my_list = []\n",
    "if len(my_list) == 0:\n",
    "    print(\"List is empty\")\n",
    "\n",
    "# Refactored code with simplified sequence checks\n",
    "my_list = []\n",
    "if not my_list: # use the fact that empty sequences are false in a Boolean context\n",
    "    print(\"List is empty\")"
   ]
  }
 ],
 "metadata": {
  "kernelspec": {
   "display_name": "Python 3 (ipykernel)",
   "language": "python",
   "name": "python3"
  },
  "language_info": {
   "codemirror_mode": {
    "name": "ipython",
    "version": 3
   },
   "file_extension": ".py",
   "mimetype": "text/x-python",
   "name": "python",
   "nbconvert_exporter": "python",
   "pygments_lexer": "ipython3",
   "version": "3.11.4"
  }
 },
 "nbformat": 4,
 "nbformat_minor": 5
}
