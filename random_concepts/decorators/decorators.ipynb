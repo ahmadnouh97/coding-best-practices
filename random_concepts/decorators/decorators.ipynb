{
 "cells": [
  {
   "cell_type": "markdown",
   "metadata": {},
   "source": [
    "# Understanding Decorators in Python"
   ]
  },
  {
   "cell_type": "markdown",
   "metadata": {},
   "source": [
    "In Python, decorators are tools that allow you to modify the behavior of a function or class. They are like wrappers that add functionality to your code in a clean and reusable way."
   ]
  },
  {
   "cell_type": "markdown",
   "metadata": {},
   "source": [
    "**Here’s an example:** creating a decorator to calculate the execution time of a function."
   ]
  },
  {
   "cell_type": "code",
   "execution_count": 1,
   "metadata": {},
   "outputs": [
    {
     "name": "stdout",
     "output_type": "stream",
     "text": [
      "Execution time of example_function: 2.0004 seconds\n"
     ]
    }
   ],
   "source": [
    "import time\n",
    "\n",
    "def execution_time_decorator(func):\n",
    "    def wrapper(*args, **kwargs):\n",
    "        start_time = time.perf_counter()  # Record the start time with perf_counter\n",
    "        result = func(*args, **kwargs)  # Call the original function\n",
    "        end_time = time.perf_counter()  # Record the end time with perf_counter\n",
    "        execution_time = end_time - start_time  # Calculate execution time\n",
    "        print(f\"Execution time of {func.__name__}: {execution_time:.4f} seconds\")\n",
    "        return result  # Return the result of the original function\n",
    "    return wrapper\n",
    "\n",
    "# Using the decorator\n",
    "@execution_time_decorator\n",
    "def example_function(seconds):\n",
    "    time.sleep(seconds)\n",
    "\n",
    "# Test the function\n",
    "example_function(2)"
   ]
  },
  {
   "cell_type": "markdown",
   "metadata": {},
   "source": [
    "## Explanation:"
   ]
  },
  {
   "cell_type": "markdown",
   "metadata": {},
   "source": [
    "1. **Define the Decorator:** `execution_time_decorator` takes a function func as its argument.\n",
    "2. **Wrapper Function:** Inside, `wrapper` is defined to wrap the original function. It records the start and end times, calculates the execution time, and prints it.\n",
    "3. **Using the Decorator:** The `@execution_time_decorator` syntax is a shorthand to apply the decorator to example_function.\n",
    "When you call `example_function(2)`, it will sleep for 2 seconds and then print the execution time."
   ]
  },
  {
   "cell_type": "markdown",
   "metadata": {},
   "source": [
    "## Why Use Decorators?"
   ]
  },
  {
   "cell_type": "markdown",
   "metadata": {},
   "source": [
    "- **Code Reusability:** Write once, use multiple times.\n",
    "- **Separation of Concerns:** Keep core logic and additional functionality separate.\n",
    "- **Readability:** Cleaner and more readable code."
   ]
  },
  {
   "cell_type": "code",
   "execution_count": null,
   "metadata": {},
   "outputs": [],
   "source": []
  },
  {
   "cell_type": "markdown",
   "metadata": {},
   "source": [
    "# Here are several practical use cases where decorators are commonly employed:"
   ]
  },
  {
   "cell_type": "markdown",
   "metadata": {},
   "source": [
    "## 1. Logging"
   ]
  },
  {
   "cell_type": "markdown",
   "metadata": {},
   "source": [
    "Decorators can be used to log function calls, including the arguments passed and the result returned."
   ]
  },
  {
   "cell_type": "code",
   "execution_count": 2,
   "metadata": {},
   "outputs": [
    {
     "name": "stderr",
     "output_type": "stream",
     "text": [
      "INFO:root:Calling add with args (2, 3) and kwargs {}\n",
      "INFO:root:add returned 5\n"
     ]
    },
    {
     "data": {
      "text/plain": [
       "5"
      ]
     },
     "execution_count": 2,
     "metadata": {},
     "output_type": "execute_result"
    }
   ],
   "source": [
    "import logging\n",
    "from functools import wraps\n",
    "\n",
    "logging.basicConfig(level=logging.INFO)\n",
    "\n",
    "def log_decorator(func):\n",
    "    @wraps(func)\n",
    "    def wrapper(*args, **kwargs):\n",
    "        logging.info(f\"Calling {func.__name__} with args {args} and kwargs {kwargs}\")\n",
    "        result = func(*args, **kwargs)\n",
    "        logging.info(f\"{func.__name__} returned {result}\")\n",
    "        return result\n",
    "    return wrapper\n",
    "\n",
    "@log_decorator\n",
    "def add(a, b):\n",
    "    return a + b\n",
    "\n",
    "add(2, 3)"
   ]
  },
  {
   "cell_type": "markdown",
   "metadata": {},
   "source": [
    "## 2. Access Control"
   ]
  },
  {
   "cell_type": "markdown",
   "metadata": {},
   "source": [
    "Decorators can enforce access control by checking user permissions before allowing access to a function."
   ]
  },
  {
   "cell_type": "code",
   "execution_count": 3,
   "metadata": {},
   "outputs": [
    {
     "name": "stdout",
     "output_type": "stream",
     "text": [
      "User john_doe deleted\n"
     ]
    }
   ],
   "source": [
    "from functools import wraps\n",
    "\n",
    "def requires_permission(permission):\n",
    "    def decorator(func):\n",
    "        @wraps(func)\n",
    "        def wrapper(user, *args, **kwargs):\n",
    "            if not user.has_permission(permission):\n",
    "                raise PermissionError(\"You do not have the required permission\")\n",
    "            return func(user, *args, **kwargs)\n",
    "        return wrapper\n",
    "    return decorator\n",
    "\n",
    "class User:\n",
    "    def __init__(self, permissions):\n",
    "        self.permissions = permissions\n",
    "    \n",
    "    def has_permission(self, permission):\n",
    "        return permission in self.permissions\n",
    "\n",
    "@requires_permission('admin')\n",
    "def delete_user(user, username):\n",
    "    print(f\"User {username} deleted\")\n",
    "\n",
    "admin_user = User(['admin'])\n",
    "regular_user = User([])\n",
    "\n",
    "delete_user(admin_user, 'john_doe')  # Allowed\n",
    "# delete_user(regular_user, 'john_doe')  # Raises PermissionError"
   ]
  },
  {
   "cell_type": "markdown",
   "metadata": {},
   "source": [
    "## 3. Caching"
   ]
  },
  {
   "cell_type": "markdown",
   "metadata": {},
   "source": [
    "Decorators can cache function results to avoid redundant computations, improving performance."
   ]
  },
  {
   "cell_type": "code",
   "execution_count": 4,
   "metadata": {},
   "outputs": [
    {
     "name": "stdout",
     "output_type": "stream",
     "text": [
      "16\n",
      "16\n"
     ]
    }
   ],
   "source": [
    "from functools import wraps\n",
    "\n",
    "def cache_decorator(func):\n",
    "    cache = {}\n",
    "    \n",
    "    @wraps(func)\n",
    "    def wrapper(*args):\n",
    "        if args in cache:\n",
    "            return cache[args]\n",
    "        result = func(*args)\n",
    "        cache[args] = result\n",
    "        return result\n",
    "    \n",
    "    return wrapper\n",
    "\n",
    "@cache_decorator\n",
    "def compute_square(n):\n",
    "    return n * n\n",
    "\n",
    "print(compute_square(4))  # Computes and caches result\n",
    "print(compute_square(4))  # Returns cached result"
   ]
  },
  {
   "cell_type": "markdown",
   "metadata": {},
   "source": [
    "## 4. Input Validation"
   ]
  },
  {
   "cell_type": "markdown",
   "metadata": {},
   "source": [
    "Decorators can validate the inputs to a function, ensuring they meet certain criteria before execution."
   ]
  },
  {
   "cell_type": "code",
   "execution_count": 5,
   "metadata": {},
   "outputs": [
    {
     "name": "stdout",
     "output_type": "stream",
     "text": [
      "5\n"
     ]
    }
   ],
   "source": [
    "from functools import wraps\n",
    "\n",
    "def validate_non_negative(func):\n",
    "    @wraps(func)\n",
    "    def wrapper(x, y):\n",
    "        if x < 0 or y < 0:\n",
    "            raise ValueError(\"Arguments must be non-negative\")\n",
    "        return func(x, y)\n",
    "    return wrapper\n",
    "\n",
    "@validate_non_negative\n",
    "def add(x, y):\n",
    "    return x + y\n",
    "\n",
    "print(add(2, 3))  # Valid\n",
    "# print(add(-1, 2))  # Raises ValueError"
   ]
  },
  {
   "cell_type": "markdown",
   "metadata": {},
   "source": [
    "## 5. Memoization"
   ]
  },
  {
   "cell_type": "markdown",
   "metadata": {},
   "source": [
    "A specific form of caching that remembers previous function arguments and results."
   ]
  },
  {
   "cell_type": "code",
   "execution_count": 6,
   "metadata": {},
   "outputs": [
    {
     "name": "stdout",
     "output_type": "stream",
     "text": [
      "55\n"
     ]
    }
   ],
   "source": [
    "from functools import lru_cache\n",
    "\n",
    "@lru_cache(maxsize=None)\n",
    "def fibonacci(n):\n",
    "    if n < 2:\n",
    "        return n\n",
    "    return fibonacci(n - 1) + fibonacci(n - 2)\n",
    "\n",
    "print(fibonacci(10))  # Efficiently computes with memoization"
   ]
  },
  {
   "cell_type": "markdown",
   "metadata": {},
   "source": [
    "## 6. Rate Limiting"
   ]
  },
  {
   "cell_type": "markdown",
   "metadata": {},
   "source": [
    "Decorators can limit the number of times a function can be called within a specific timeframe."
   ]
  },
  {
   "cell_type": "code",
   "execution_count": 7,
   "metadata": {},
   "outputs": [
    {
     "name": "stdout",
     "output_type": "stream",
     "text": [
      "Function called\n",
      "Function called\n",
      "Function called\n"
     ]
    }
   ],
   "source": [
    "import time\n",
    "from functools import wraps\n",
    "\n",
    "def rate_limit(max_calls, period):\n",
    "    calls = []\n",
    "\n",
    "    def decorator(func):\n",
    "        @wraps(func)\n",
    "        def wrapper(*args, **kwargs):\n",
    "            current_time = time.perf_counter()\n",
    "            calls[:] = [call for call in calls if current_time - call < period]\n",
    "            if len(calls) >= max_calls:\n",
    "                raise Exception(\"Rate limit exceeded\")\n",
    "            calls.append(current_time)\n",
    "            return func(*args, **kwargs)\n",
    "        return wrapper\n",
    "    return decorator\n",
    "\n",
    "@rate_limit(3, 10)  # Allow max 3 calls per 10 seconds\n",
    "def limited_function():\n",
    "    print(\"Function called\")\n",
    "\n",
    "limited_function()\n",
    "limited_function()\n",
    "limited_function()\n",
    "# limited_function()  # Raises Exception: Rate limit exceeded"
   ]
  },
  {
   "cell_type": "markdown",
   "metadata": {},
   "source": [
    "# Conclusion"
   ]
  },
  {
   "cell_type": "markdown",
   "metadata": {},
   "source": [
    "Decorators in Python offer a flexible and powerful method for extending and modifying the behavior of functions and methods without altering their code. They are extensively utilized in real-world applications for tasks such as logging, access control, caching, input validation, performance measurement, and more."
   ]
  },
  {
   "cell_type": "code",
   "execution_count": null,
   "metadata": {},
   "outputs": [],
   "source": []
  }
 ],
 "metadata": {
  "kernelspec": {
   "display_name": "base",
   "language": "python",
   "name": "python3"
  },
  "language_info": {
   "codemirror_mode": {
    "name": "ipython",
    "version": 3
   },
   "file_extension": ".py",
   "mimetype": "text/x-python",
   "name": "python",
   "nbconvert_exporter": "python",
   "pygments_lexer": "ipython3",
   "version": "3.11.4"
  }
 },
 "nbformat": 4,
 "nbformat_minor": 2
}
