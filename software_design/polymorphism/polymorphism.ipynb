{
 "cells": [
  {
   "cell_type": "markdown",
   "metadata": {},
   "source": [
    "# 🔹Understanding Polymorphism in Software Design with Python🔹"
   ]
  },
  {
   "cell_type": "markdown",
   "metadata": {},
   "source": [
    "Polymorphism, a cornerstone of Object-Oriented Programming (OOP), empowers us to design flexible and maintainable systems. \n",
    "\n",
    "Here is an example that illustrates the benefits of using polymorphism in a payment system:"
   ]
  },
  {
   "cell_type": "markdown",
   "metadata": {},
   "source": [
    "## Example:"
   ]
  },
  {
   "cell_type": "code",
   "execution_count": 1,
   "metadata": {},
   "outputs": [
    {
     "name": "stdout",
     "output_type": "stream",
     "text": [
      "Processing credit card payment of $100.0\n",
      "Processing PayPal payment of $150.5\n",
      "Processing Bitcoin payment of $250.0\n"
     ]
    }
   ],
   "source": [
    "from abc import ABC, abstractmethod\n",
    "\n",
    "# An abstract base class\n",
    "class Payment(ABC):\n",
    "    @abstractmethod\n",
    "    def process_payment(self, amount):\n",
    "        raise NotImplementedError(\"Subclasses must implement this method!\")\n",
    "\n",
    "# Derived Classes\n",
    "class CreditCardPayment(Payment):\n",
    "    def process_payment(self, amount):\n",
    "        return f\"Processing credit card payment of ${amount}\"\n",
    "\n",
    "class PayPalPayment(Payment):\n",
    "    def process_payment(self, amount):\n",
    "        return f\"Processing PayPal payment of ${amount}\"\n",
    "\n",
    "class BitcoinPayment(Payment):\n",
    "    def process_payment(self, amount):\n",
    "        return f\"Processing Bitcoin payment of ${amount}\"\n",
    "\n",
    "# Polymorphic Function\n",
    "def make_payment(payment_method: Payment, amount: float):\n",
    "    print(payment_method.process_payment(amount))\n",
    "\n",
    "# Instances of different payment methods\n",
    "credit_card = CreditCardPayment()\n",
    "paypal = PayPalPayment()\n",
    "bitcoin = BitcoinPayment()\n",
    "\n",
    "# Processing payments using different methods\n",
    "make_payment(credit_card, 100.0)  # Output: Processing credit card payment of $100.0\n",
    "make_payment(paypal, 150.5)       # Output: Processing PayPal payment of $150.5\n",
    "make_payment(bitcoin, 250.0)      # Output: Processing Bitcoin payment of $250.0"
   ]
  },
  {
   "cell_type": "markdown",
   "metadata": {},
   "source": [
    "## Explanation of Polymorphism in the Code:\n",
    "\n",
    "1. Base Class Payment:\n",
    "\n",
    "    - This is the superclass with an abstract method `process_payment()`.\n",
    "\n",
    "    - The method raises a `NotImplementedError` to ensure subclasses implement this method.\n",
    "\n",
    "2. Subclasses (CreditCardPayment, PayPalPayment, BitcoinPayment):\n",
    "\n",
    "    - Each subclass inherits from `Payment` and provides its own implementation of the `process_payment()` method.\n",
    "    \n",
    "    - This means each payment method (Credit Card, PayPal, Bitcoin) can process payments in its own way.\n",
    "\n",
    "3. Polymorphic Function `make_payment`:\n",
    "\n",
    "    - This function takes a `Payment` object and an amount.\n",
    "    \n",
    "    - It calls the `process_payment()` method on the `Payment` object.\n",
    "    \n",
    "    - Thanks to polymorphism, the correct method for the specific payment type (Credit Card, PayPal, Bitcoin) is called, even though `make_payment` uses a common interface.\n",
    "\n",
    "4. Creating Instances and Processing Payments:\n",
    "\n",
    "    - Instances of different payment methods are created.\n",
    "    \n",
    "    - `make_payment` is called with different payment method objects.\n",
    "    \n",
    "    - The appropriate `process_payment()` method for each payment method is executed, demonstrating polymorphism in action."
   ]
  },
  {
   "cell_type": "markdown",
   "metadata": {},
   "source": [
    "## Why Polymorphism?"
   ]
  },
  {
   "cell_type": "markdown",
   "metadata": {},
   "source": [
    "- **Flexibility:** Easily introduce new payment methods by simply creating a subclass, without the need for widespread code changes.\n",
    "\n",
    "- **Code Reusability:** The `make_payment` function can seamlessly handle any payment method, reducing redundancy and promoting clean code practices.\n",
    "\n",
    "- **Maintainability:** Maintain an organized and comprehensible codebase, enhancing long-term manageability and adaptability.\n",
    "\n",
    "- **Consistency:** Ensure consistent behavior across diverse payment methods, adhering to a standardized interface (`process_payment` method)."
   ]
  },
  {
   "cell_type": "code",
   "execution_count": null,
   "metadata": {},
   "outputs": [],
   "source": []
  }
 ],
 "metadata": {
  "kernelspec": {
   "display_name": "base",
   "language": "python",
   "name": "python3"
  },
  "language_info": {
   "codemirror_mode": {
    "name": "ipython",
    "version": 3
   },
   "file_extension": ".py",
   "mimetype": "text/x-python",
   "name": "python",
   "nbconvert_exporter": "python",
   "pygments_lexer": "ipython3",
   "version": "3.11.4"
  }
 },
 "nbformat": 4,
 "nbformat_minor": 2
}
