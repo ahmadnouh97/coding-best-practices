{
 "cells": [
  {
   "cell_type": "markdown",
   "metadata": {},
   "source": [
    "# Understanding the Memento Design Pattern with a Real-World Example"
   ]
  },
  {
   "cell_type": "markdown",
   "metadata": {},
   "source": [
    "In software development, maintaining clean and maintainable code is crucial. One design pattern that helps achieve this is the Memento Design Pattern. Here's a simple example using a text editor to illustrate its benefits."
   ]
  },
  {
   "cell_type": "markdown",
   "metadata": {},
   "source": [
    "## 🚫 Before Using the Memento Design Pattern"
   ]
  },
  {
   "cell_type": "markdown",
   "metadata": {},
   "source": [
    "Initially, our Editor class handles both the text content and the history of states:"
   ]
  },
  {
   "cell_type": "code",
   "execution_count": 1,
   "metadata": {},
   "outputs": [],
   "source": [
    "class Editor:\n",
    "    def __init__(self):\n",
    "        self._content = \"\"\n",
    "        self._history = []\n",
    "\n",
    "    def add_text(self, words):\n",
    "        # Save the current state to history before making changes\n",
    "        self._history.append(self._content)\n",
    "        self._content += words\n",
    "\n",
    "    def get_content(self):\n",
    "        return self._content\n",
    "\n",
    "    def undo(self):\n",
    "        if self._history:\n",
    "            # Restore the last saved state\n",
    "            self._content = self._history.pop()\n",
    "        else:\n",
    "            print(\"No states to undo.\")\n"
   ]
  },
  {
   "cell_type": "code",
   "execution_count": 2,
   "metadata": {},
   "outputs": [
    {
     "name": "stdout",
     "output_type": "stream",
     "text": [
      "Hello, world!\n",
      "Hello, \n",
      "\n"
     ]
    }
   ],
   "source": [
    "# Usage\n",
    "editor = Editor()\n",
    "\n",
    "editor.add_text(\"Hello, \")\n",
    "editor.add_text(\"world!\")\n",
    "print(editor.get_content())  # Output: Hello, world!\n",
    "\n",
    "editor.undo()\n",
    "print(editor.get_content())  # Output: Hello, \n",
    "\n",
    "editor.undo()\n",
    "print(editor.get_content())  # Output: "
   ]
  },
  {
   "cell_type": "markdown",
   "metadata": {},
   "source": [
    "### 🛠️ Problem"
   ]
  },
  {
   "cell_type": "markdown",
   "metadata": {},
   "source": [
    "In this implementation, the Editor class violates the Single Responsibility Principle by managing both the text content and the history of states. This makes the code harder to maintain and extend."
   ]
  },
  {
   "cell_type": "markdown",
   "metadata": {},
   "source": [
    "## ✅ After Using the Memento Design Pattern"
   ]
  },
  {
   "cell_type": "markdown",
   "metadata": {},
   "source": [
    "Let's refactor the code to use the Memento Design Pattern, which separates concerns and makes the code more maintainable:"
   ]
  },
  {
   "cell_type": "code",
   "execution_count": 3,
   "metadata": {},
   "outputs": [],
   "source": [
    "# Memento class to store the state of the Editor\n",
    "class EditorState:\n",
    "    def __init__(self, content):\n",
    "        self._content = content\n",
    "\n",
    "    def get_content(self):\n",
    "        return self._content\n",
    "\n",
    "# Originator class that creates and restores states\n",
    "class Editor:\n",
    "    def __init__(self):\n",
    "        self._content = \"\"\n",
    "\n",
    "    def add_text(self, words):\n",
    "        self._content += words\n",
    "\n",
    "    def get_content(self):\n",
    "        return self._content\n",
    "\n",
    "    def get_state(self):\n",
    "        # Create a memento object to save the current state\n",
    "        return EditorState(self._content)\n",
    "\n",
    "    def restore_state(self, state):\n",
    "        # Restore the state from the memento object\n",
    "        self._content = state.get_content()\n",
    "\n",
    "# Caretaker class that keeps track of the history\n",
    "class History:\n",
    "    def __init__(self):\n",
    "        self._states = []\n",
    "\n",
    "    def push(self, state):\n",
    "        # Add the state to the history\n",
    "        self._states.append(state)\n",
    "\n",
    "    def pop(self):\n",
    "        # Get the last saved state\n",
    "        if self._states:\n",
    "            return self._states.pop()\n",
    "        return None\n"
   ]
  },
  {
   "cell_type": "code",
   "execution_count": 4,
   "metadata": {},
   "outputs": [
    {
     "name": "stdout",
     "output_type": "stream",
     "text": [
      "Hello, world!\n",
      "Hello, \n",
      "\n"
     ]
    }
   ],
   "source": [
    "# Usage\n",
    "editor = Editor()\n",
    "history = History()  # Initialize with default state\n",
    "\n",
    "# add initial state (with empty content \"\") to history\n",
    "history.push(editor.get_state())\n",
    "\n",
    "# Adding text and saving states\n",
    "editor.add_text(\"Hello, \")\n",
    "history.push(editor.get_state())  # Save state\n",
    "\n",
    "editor.add_text(\"world!\")\n",
    "history.push(editor.get_state())  # Save state\n",
    "\n",
    "# Undoing changes\n",
    "editor.restore_state(history.pop())  # Restore to last saved state\n",
    "print(editor.get_content())  # Output: Hello, world!\n",
    "\n",
    "editor.restore_state(history.pop())  # Restore to previous state\n",
    "print(editor.get_content())  # Output: Hello, \n",
    "\n",
    "editor.restore_state(history.pop())  # Restore to initial state\n",
    "print(editor.get_content())  # Output: "
   ]
  },
  {
   "cell_type": "markdown",
   "metadata": {},
   "source": [
    "# 🌟 Benefits\n",
    "Using the Memento Design Pattern, we separate the responsibilities:\n",
    "\n",
    "- Editor manages text content.\n",
    "- EditorState encapsulates the state.\n",
    "- History manages the history of states."
   ]
  },
  {
   "cell_type": "markdown",
   "metadata": {},
   "source": [
    "# 🌍 Real-World Examples\n",
    "The Memento Design Pattern is useful in various scenarios:\n",
    "\n",
    "- 📝 Text Editors: Allowing users to undo/redo changes.\n",
    "- 🎨 Graphics Editors: Managing complex state changes when editing images.\n",
    "- 🎮 Games: Saving and loading game states to provide save points.\n",
    "- 🛠️ Form Editors: Allowing users to revert to previous configurations in settings or forms.\n",
    "- 💰 Financial Applications: Storing snapshots of transaction states to allow rollbacks in case of errors."
   ]
  },
  {
   "cell_type": "markdown",
   "metadata": {},
   "source": [
    "By refactoring the code in this way, we ensure that each class has a clear responsibility, leading to a more robust and scalable design."
   ]
  },
  {
   "cell_type": "code",
   "execution_count": null,
   "metadata": {},
   "outputs": [],
   "source": []
  }
 ],
 "metadata": {
  "kernelspec": {
   "display_name": "base",
   "language": "python",
   "name": "python3"
  },
  "language_info": {
   "codemirror_mode": {
    "name": "ipython",
    "version": 3
   },
   "file_extension": ".py",
   "mimetype": "text/x-python",
   "name": "python",
   "nbconvert_exporter": "python",
   "pygments_lexer": "ipython3",
   "version": "3.11.4"
  }
 },
 "nbformat": 4,
 "nbformat_minor": 2
}
