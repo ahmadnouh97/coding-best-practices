{
 "cells": [
  {
   "cell_type": "markdown",
   "id": "dbe04705",
   "metadata": {},
   "source": [
    "# Understanding Coupling in Software Design with Python"
   ]
  },
  {
   "cell_type": "markdown",
   "id": "268f08c1",
   "metadata": {},
   "source": [
    "Coupling is a fundamental concept in software design that describes how closely connected different modules or classes are. Lower coupling is generally better, leading to more flexible and maintainable code. Let’s dive into this with a practical example in Python! 🐍"
   ]
  },
  {
   "cell_type": "markdown",
   "id": "a60b496c",
   "metadata": {},
   "source": [
    "## Tight Coupling ❌"
   ]
  },
  {
   "cell_type": "markdown",
   "id": "755c56dc",
   "metadata": {},
   "source": [
    "In tightly coupled systems, classes are highly dependent on each other."
   ]
  },
  {
   "cell_type": "code",
   "execution_count": 1,
   "id": "50608b9f",
   "metadata": {},
   "outputs": [
    {
     "name": "stdout",
     "output_type": "stream",
     "text": [
      "Placing order 1 for amount 100.\n",
      "Processing credit payment of 100.\n"
     ]
    }
   ],
   "source": [
    "\n",
    "# -------------------------Tight Coupling Example-------------------------\n",
    "# ❌ Order creates and depends on Payment directly. Changes in Payment will affect Order.\n",
    "\n",
    "class Payment:\n",
    "    def __init__(self, amount, payment_type):\n",
    "        self.amount = amount\n",
    "        self.payment_type = payment_type\n",
    "\n",
    "    def process_payment(self):\n",
    "        print(f\"Processing {self.payment_type} payment of {self.amount}.\")\n",
    "\n",
    "class Order:\n",
    "    def __init__(self, order_id, amount, payment_type):\n",
    "        self.order_id = order_id\n",
    "        self.amount = amount\n",
    "        # ❌ Order creates an instance of Payment directly\n",
    "        self.payment = Payment(amount, payment_type)\n",
    "\n",
    "    def place_order(self):\n",
    "        print(f\"Placing order {self.order_id} for amount {self.amount}.\")\n",
    "        # ❌ Order calls Payment's method directly\n",
    "        self.payment.process_payment()\n",
    "\n",
    "# Using the classes\n",
    "order = Order(1, 100, 'credit')\n",
    "order.place_order()"
   ]
  },
  {
   "cell_type": "markdown",
   "id": "67baa6dd",
   "metadata": {},
   "source": [
    "## Loose Coupling ✅"
   ]
  },
  {
   "cell_type": "markdown",
   "id": "6d25214c",
   "metadata": {},
   "source": [
    "Loose coupling, on the other hand, reduces interdependencies, making the system more flexible and easier to maintain."
   ]
  },
  {
   "cell_type": "code",
   "execution_count": 2,
   "id": "751d1133",
   "metadata": {},
   "outputs": [
    {
     "name": "stdout",
     "output_type": "stream",
     "text": [
      "Placing order 1 for amount 100.\n",
      "Processing credit payment of 100.\n"
     ]
    }
   ],
   "source": [
    "# -------------------------Loose Coupling Example-------------------------\n",
    "# ✅ Order uses dependency injection to receive a Payment instance. It depends on an interface, not the implementation.\n",
    "\n",
    "class Payment:\n",
    "    def __init__(self, amount, payment_type):\n",
    "        self.amount = amount\n",
    "        self.payment_type = payment_type\n",
    "\n",
    "    def process_payment(self):\n",
    "        print(f\"Processing {self.payment_type} payment of {self.amount}.\")\n",
    "\n",
    "class Order:\n",
    "    def __init__(self, order_id, amount, payment_processor):\n",
    "        self.order_id = order_id\n",
    "        self.amount = amount\n",
    "        # ✅ Order receives a Payment instance via dependency injection\n",
    "        self.payment_processor = payment_processor\n",
    "\n",
    "    def place_order(self):\n",
    "        print(f\"Placing order {self.order_id} for amount {self.amount}.\")\n",
    "        # ✅ Order calls the method on the provided Payment instance\n",
    "        self.payment_processor.process_payment()\n",
    "\n",
    "# Using the classes\n",
    "payment = Payment(100, 'credit')\n",
    "order = Order(1, 100, payment)\n",
    "order.place_order()"
   ]
  },
  {
   "cell_type": "markdown",
   "id": "f9eebe16",
   "metadata": {},
   "source": [
    "## 🔑 Takeaway:\n",
    "- **Tight Coupling:** Classes are highly dependent on each other, reducing flexibility.\n",
    "- **Loose Coupling:** Reduces dependencies, enhancing flexibility and maintainability."
   ]
  }
 ],
 "metadata": {
  "kernelspec": {
   "display_name": "Python 3 (ipykernel)",
   "language": "python",
   "name": "python3"
  },
  "language_info": {
   "codemirror_mode": {
    "name": "ipython",
    "version": 3
   },
   "file_extension": ".py",
   "mimetype": "text/x-python",
   "name": "python",
   "nbconvert_exporter": "python",
   "pygments_lexer": "ipython3",
   "version": "3.11.4"
  }
 },
 "nbformat": 4,
 "nbformat_minor": 5
}
